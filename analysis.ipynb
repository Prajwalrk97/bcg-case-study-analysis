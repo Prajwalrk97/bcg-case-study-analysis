{
 "cells": [
  {
   "cell_type": "code",
   "execution_count": 1,
   "metadata": {},
   "outputs": [
    {
     "name": "stderr",
     "output_type": "stream",
     "text": [
      "Setting default log level to \"WARN\".\n",
      "To adjust logging level use sc.setLogLevel(newLevel). For SparkR, use setLogLevel(newLevel).\n",
      "24/10/28 19:42:57 WARN NativeCodeLoader: Unable to load native-hadoop library for your platform... using builtin-java classes where applicable\n"
     ]
    }
   ],
   "source": [
    "from pyspark.sql import SparkSession\n",
    "import pyspark.sql.functions as f\n",
    "from pyspark.sql.window import Window\n",
    "from src.main.data_loading import DataLoadingClass\n",
    "\n",
    "spark = SparkSession.builder.appName(\"Case Study Analysis\").getOrCreate()"
   ]
  },
  {
   "cell_type": "code",
   "execution_count": 47,
   "metadata": {},
   "outputs": [
    {
     "name": "stderr",
     "output_type": "stream",
     "text": [
      "\u001b[32m2024-10-28 20:43:06.467\u001b[0m | \u001b[1mINFO    \u001b[0m | \u001b[36msrc.utils.config_parser\u001b[0m:\u001b[36mread_config_file\u001b[0m:\u001b[36m19\u001b[0m - \u001b[1mReading config...\u001b[0m\n",
      "\u001b[32m2024-10-28 20:43:06.472\u001b[0m | \u001b[1mINFO    \u001b[0m | \u001b[36msrc.main.data_loading\u001b[0m:\u001b[36m_load_data\u001b[0m:\u001b[36m48\u001b[0m - \u001b[1mTrying to read Charges_use.csv from ./data/input_data\u001b[0m\n",
      "\u001b[32m2024-10-28 20:43:06.472\u001b[0m | \u001b[1mINFO    \u001b[0m | \u001b[36msrc.main.data_loading\u001b[0m:\u001b[36m_load_data\u001b[0m:\u001b[36m48\u001b[0m - \u001b[1mTrying to read Charges_use.csv from ./data/input_data\u001b[0m\n",
      "\u001b[32m2024-10-28 20:43:06.801\u001b[0m | \u001b[1mINFO    \u001b[0m | \u001b[36msrc.main.data_loading\u001b[0m:\u001b[36m_load_data\u001b[0m:\u001b[36m48\u001b[0m - \u001b[1mTrying to read Primary_Person_use.csv from ./data/input_data\u001b[0m\n",
      "\u001b[32m2024-10-28 20:43:07.010\u001b[0m | \u001b[1mINFO    \u001b[0m | \u001b[36msrc.main.data_loading\u001b[0m:\u001b[36m_load_data\u001b[0m:\u001b[36m48\u001b[0m - \u001b[1mTrying to read Units_use.csv from ./data/input_data\u001b[0m\n",
      "\u001b[32m2024-10-28 20:43:07.274\u001b[0m | \u001b[1mINFO    \u001b[0m | \u001b[36msrc.main.data_loading\u001b[0m:\u001b[36m_load_data\u001b[0m:\u001b[36m48\u001b[0m - \u001b[1mTrying to read Damages_use.csv from ./data/input_data\u001b[0m\n",
      "\u001b[32m2024-10-28 20:43:07.561\u001b[0m | \u001b[1mINFO    \u001b[0m | \u001b[36msrc.main.data_loading\u001b[0m:\u001b[36m_load_data\u001b[0m:\u001b[36m48\u001b[0m - \u001b[1mTrying to read Restrict_use.csv from ./data/input_data\u001b[0m\n",
      "\u001b[32m2024-10-28 20:43:07.839\u001b[0m | \u001b[1mINFO    \u001b[0m | \u001b[36msrc.main.data_loading\u001b[0m:\u001b[36m_load_data\u001b[0m:\u001b[36m48\u001b[0m - \u001b[1mTrying to read Endorse_use.csv from ./data/input_data\u001b[0m\n"
     ]
    }
   ],
   "source": [
    "data_loader = DataLoadingClass(spark, \"local\")\n",
    "charges_df = data_loader.get_charges()\n",
    "primary_person_df = data_loader.get_primary_person()\n",
    "units_df = data_loader.get_units()\n",
    "damages_df = data_loader.get_damages()\n",
    "restrict_df = data_loader.get_restrict()\n",
    "endorsements_df = data_loader.get_endorse()"
   ]
  },
  {
   "cell_type": "code",
   "execution_count": 3,
   "metadata": {},
   "outputs": [
    {
     "name": "stdout",
     "output_type": "stream",
     "text": [
      "+--------+-----------------+\n",
      "|CRASH_ID|total_male_deaths|\n",
      "+--------+-----------------+\n",
      "+--------+-----------------+\n",
      "\n"
     ]
    }
   ],
   "source": [
    "# 1. Find the number of crashes (accidents) where the number of males killed is greater than 2.\n",
    "male_fatalities_df = primary_person_df.where(f.expr(\"PRSN_INJRY_SEV_ID == 'KILLED' and PRSN_GNDR_ID == 'MALE'\"))\n",
    "male_fatality_count_df = male_fatalities_df.groupBy(\"CRASH_ID\").agg(f.sum(\"DEATH_CNT\").alias(\"total_male_deaths\"))\n",
    "crashes_with_male_fatalities = male_fatality_count_df.filter(f.col(\"total_male_deaths\") > 2)\n",
    "crashes_with_male_fatalities.show()"
   ]
  },
  {
   "cell_type": "code",
   "execution_count": 4,
   "metadata": {},
   "outputs": [
    {
     "name": "stderr",
     "output_type": "stream",
     "text": [
      "[Stage 9:========================================>                 (7 + 3) / 10]\r"
     ]
    },
    {
     "name": "stdout",
     "output_type": "stream",
     "text": [
      "+--------+-------------+\n",
      "|CRASH_ID|vehicle_count|\n",
      "+--------+-------------+\n",
      "|14898984|            2|\n",
      "|14926725|            2|\n",
      "|14916528|            2|\n",
      "|14932523|            3|\n",
      "|14947649|            2|\n",
      "+--------+-------------+\n",
      "only showing top 5 rows\n",
      "\n"
     ]
    },
    {
     "name": "stderr",
     "output_type": "stream",
     "text": [
      "                                                                                \r"
     ]
    }
   ],
   "source": [
    "# 2. Count how many two-wheelers are booked for crashes.\n",
    "motorcyle_crashes = units_df.filter(f.expr(\"VEH_BODY_STYL_ID == 'POLICE MOTORCYCLE' or VEH_BODY_STYL_ID == 'MOTORCYCLE' \"))\n",
    "motorcyle_crashes.groupBy(\"CRASH_ID\").agg(f.count(\"VEH_BODY_STYL_ID\").alias(\"vehicle_count\")).filter(f.col(\"vehicle_count\") > 1).show(5)"
   ]
  },
  {
   "cell_type": "code",
   "execution_count": 5,
   "metadata": {},
   "outputs": [
    {
     "name": "stdout",
     "output_type": "stream",
     "text": [
      "+-----------+--------------+\n",
      "|VEH_MAKE_ID|VEH_MAKE_COUNT|\n",
      "+-----------+--------------+\n",
      "|  CHEVROLET|             8|\n",
      "|       FORD|             6|\n",
      "|     NISSAN|             5|\n",
      "|      DODGE|             2|\n",
      "|      HONDA|             2|\n",
      "+-----------+--------------+\n",
      "only showing top 5 rows\n",
      "\n"
     ]
    }
   ],
   "source": [
    "# 3. Determine the Top 5 Vehicle Makes of cars involved in crashes where the driver died and airbags did not deploy\n",
    "fatalities_df = primary_person_df.where(f.expr(\"PRSN_INJRY_SEV_ID == 'KILLED' and PRSN_AIRBAG_ID == 'NOT DEPLOYED' and PRSN_TYPE_ID == 'DRIVER'\"))\n",
    "filtered_units_df = units_df.filter(f.col(\"VEH_BODY_STYL_ID\").isin([\"PICKUP\", \"SPORT UTILITY VEHICLE\", \"PASSENGER CAR, 2-DOOR\", \"PASSENGER CAR, 4-DOOR\", \"TRUCK\", \"POLICE CAR/TRUCK\"]))\n",
    "fatalities_unit_df = fatalities_df.join(filtered_units_df, on=[\"CRASH_ID\", \"UNIT_NBR\"], how='inner')\n",
    "fatalities_unit_df.groupBy(\"VEH_MAKE_ID\").agg(f.count(\"VEH_MAKE_ID\").alias(\"VEH_MAKE_COUNT\")).orderBy(f.desc(f.col(\"VEH_MAKE_COUNT\"))).show(5)"
   ]
  },
  {
   "cell_type": "code",
   "execution_count": 6,
   "metadata": {},
   "outputs": [
    {
     "data": {
      "text/plain": [
       "2489"
      ]
     },
     "execution_count": 6,
     "metadata": {},
     "output_type": "execute_result"
    }
   ],
   "source": [
    "# 4: Determine number of Vehicles with driver having valid licences involved in hit and run?\n",
    "filtered_primary_person_df = primary_person_df.filter(f.expr(\"DRVR_LIC_TYPE_ID == 'DRIVER LICENSE' and PRSN_TYPE_ID == 'DRIVER' \"))\n",
    "filtered_units_df = units_df.filter(f.expr(\"VEH_HNR_FL == 'Y' \"))\n",
    "joined_df= filtered_primary_person_df.join(filtered_units_df, on=[\"CRASH_ID\", \"UNIT_NBR\"])\n",
    "joined_df.count()"
   ]
  },
  {
   "cell_type": "code",
   "execution_count": 7,
   "metadata": {},
   "outputs": [
    {
     "name": "stdout",
     "output_type": "stream",
     "text": [
      "+----------------+-------------------+\n",
      "|VEH_LIC_STATE_ID|VEH_LIC_STATE_COUNT|\n",
      "+----------------+-------------------+\n",
      "|              TX|              94472|\n",
      "+----------------+-------------------+\n",
      "only showing top 1 row\n",
      "\n"
     ]
    }
   ],
   "source": [
    "# 5: Which state has highest number of accidents in which females are not involved\n",
    "female_crashes_df = primary_person_df.where(f.expr(\"PRSN_GNDR_ID != 'FEMALE'\"))\n",
    "female_crashes_units_df = female_crashes_df.join(units_df, on=[\"CRASH_ID\", \"UNIT_NBR\"])\n",
    "female_crashes_units_df.groupBy(\"VEH_LIC_STATE_ID\").agg(f.count(\"VEH_LIC_STATE_ID\").alias(\"VEH_LIC_STATE_COUNT\")).orderBy(f.desc(\"VEH_LIC_STATE_COUNT\")).show(1)\n"
   ]
  },
  {
   "cell_type": "code",
   "execution_count": 8,
   "metadata": {},
   "outputs": [
    {
     "name": "stdout",
     "output_type": "stream",
     "text": [
      "+-----------+--------------+-----------------------+-------+\n",
      "|VEH_MAKE_ID|total_injuries|dummy_col_for_partition|row_num|\n",
      "+-----------+--------------+-----------------------+-------+\n",
      "|     TOYOTA|          4228|                      1|      3|\n",
      "|      DODGE|          3146|                      1|      4|\n",
      "|     NISSAN|          3118|                      1|      5|\n",
      "+-----------+--------------+-----------------------+-------+\n",
      "\n"
     ]
    }
   ],
   "source": [
    "# 6: Which are the Top 3rd to 5th VEH_MAKE_IDs that contribute to a largest number of injuries including death\n",
    "injuries_df = units_df.groupBy(\"VEH_MAKE_ID\").agg(f.sum(f.col(\"TOT_INJRY_CNT\") + f.col(\"DEATH_CNT\")).alias(\"total_injuries\"))\n",
    "injuries_df = injuries_df.withColumn(\"dummy_col_for_partition\", f.lit(1)) # To avoid - WARN WindowExec: No Partition Defined for Window operation! Moving all data to a single partition, this can cause serious performance degradation.\n",
    "window_fn = Window.orderBy(f.col(\"total_injuries\").desc()).partitionBy(\"dummy_col_for_partition\")\n",
    "\n",
    "injuries_df.withColumn(\"row_num\", f.row_number().over(window_fn)).filter(f.col(\"row_num\").between(3, 5)).show(5)"
   ]
  },
  {
   "cell_type": "code",
   "execution_count": 9,
   "metadata": {},
   "outputs": [
    {
     "name": "stdout",
     "output_type": "stream",
     "text": [
      "+--------------------+-----------------+---------------+\n",
      "|    VEH_BODY_STYL_ID|PRSN_ETHNICITY_ID|ethnicity_count|\n",
      "+--------------------+-----------------+---------------+\n",
      "|           AMBULANCE|            WHITE|             55|\n",
      "|                 BUS|         HISPANIC|            158|\n",
      "|      FARM EQUIPMENT|            WHITE|             27|\n",
      "|          FIRE TRUCK|            WHITE|             64|\n",
      "|          MOTORCYCLE|            WHITE|            499|\n",
      "|NEV-NEIGHBORHOOD ...|            WHITE|              5|\n",
      "|        NOT REPORTED|            WHITE|              2|\n",
      "|OTHER  (EXPLAIN I...|            WHITE|            216|\n",
      "|PASSENGER CAR, 2-...|            WHITE|           4716|\n",
      "|PASSENGER CAR, 4-...|            WHITE|          25351|\n",
      "|              PICKUP|            WHITE|          19117|\n",
      "|    POLICE CAR/TRUCK|            WHITE|            182|\n",
      "|   POLICE MOTORCYCLE|            WHITE|              2|\n",
      "|SPORT UTILITY VEH...|            WHITE|          15497|\n",
      "|               TRUCK|            WHITE|           1814|\n",
      "|       TRUCK TRACTOR|            WHITE|           2560|\n",
      "|                 VAN|            WHITE|           2212|\n",
      "|   YELLOW SCHOOL BUS|            BLACK|            106|\n",
      "+--------------------+-----------------+---------------+\n",
      "\n"
     ]
    }
   ],
   "source": [
    "# 7. Analysis 7: For all the body styles involved in crashes, mention the top ethnic user group of each unique body style\n",
    "units_persons_df = units_df.join(primary_person_df, on=[\"CRASH_ID\", \"UNIT_NBR\"])\n",
    "units_persons_df = units_persons_df.select(\"VEH_BODY_STYL_ID\", \"PRSN_ETHNICITY_ID\").filter(~f.col(\"VEH_BODY_STYL_ID\").isin([\"NA\", \"UNKNOWN\"]))\n",
    "ethnicity_counts = units_persons_df.groupBy(\"VEH_BODY_STYL_ID\", \"PRSN_ETHNICITY_ID\").agg(f.count(\"*\").alias(\"ethnicity_count\"))\n",
    "\n",
    "window_fn = Window.partitionBy(\"VEH_BODY_STYL_ID\").orderBy(f.desc(\"ethnicity_count\"))\n",
    "top_ethnic_group = ethnicity_counts.withColumn(\"rank\", f.row_number().over(window_fn)) \\\n",
    "                                   .filter(f.col(\"rank\") == 1) \\\n",
    "                                   .select(\"VEH_BODY_STYL_ID\", \"PRSN_ETHNICITY_ID\", \"ethnicity_count\").orderBy(f.col(\"VEH_BODY_STYL_ID\"), f.col(\"PRSN_ETHNICITY_ID\"), f.desc(f.col(\"ethnicity_count\")))\n",
    "top_ethnic_group.show()"
   ]
  },
  {
   "cell_type": "code",
   "execution_count": 20,
   "metadata": {},
   "outputs": [
    {
     "name": "stderr",
     "output_type": "stream",
     "text": [
      "[Stage 69:=================>                                       (3 + 7) / 10]\r"
     ]
    },
    {
     "name": "stdout",
     "output_type": "stream",
     "text": [
      "+--------+-----+\n",
      "|DRVR_ZIP|count|\n",
      "+--------+-----+\n",
      "|   78521|   51|\n",
      "|   76010|   50|\n",
      "|   75067|   44|\n",
      "|   78741|   42|\n",
      "|   78550|   39|\n",
      "+--------+-----+\n",
      "\n"
     ]
    },
    {
     "name": "stderr",
     "output_type": "stream",
     "text": [
      "                                                                                \r"
     ]
    }
   ],
   "source": [
    "# 8: Among the crashed cars, what are the Top 5 Zip Codes with highest number crashes with alcohols as the contributing factor to a crash (Use Driver Zip Code)\n",
    "\n",
    "alcohol_crash_cars_df = units_df.filter(\n",
    "    (f.col(\"VEH_BODY_STYL_ID\").isin([\"PICKUP\", \"SPORT UTILITY VEHICLE\", \"PASSENGER CAR, 2-DOOR\", \"PASSENGER CAR, 4-DOOR\", \"TRUCK\", \"POLICE CAR/TRUCK\"])) &\n",
    "    (f.col(\"CONTRIB_FACTR_1_ID\").isin([\"HAD BEEN DRINKING\", \"UNDER INFLUENCE - ALCOHOL\"]) | f.col(\"CONTRIB_FACTR_2_ID\").isin([\"HAD BEEN DRINKING\", \"UNDER INFLUENCE - ALCOHOL\"]))\n",
    ")\n",
    "alcohol_crash_cars_df.count()\n",
    "\n",
    "car_alcohol_crashes_with_zip_df = alcohol_crash_cars_df.join(\n",
    "    primary_person_df, \n",
    "    on=[\"CRASH_ID\", \"UNIT_NBR\"],\n",
    "    how=\"inner\"\n",
    ").select(\"DRVR_ZIP\").filter(f.col(\"DRVR_ZIP\").isNotNull())\n",
    "\n",
    "top_zip_codes_df = car_alcohol_crashes_with_zip_df.groupBy(\"DRVR_ZIP\").count().orderBy(f.desc(\"count\")).limit(5).show()"
   ]
  },
  {
   "cell_type": "code",
   "execution_count": 33,
   "metadata": {},
   "outputs": [
    {
     "name": "stdout",
     "output_type": "stream",
     "text": [
      "11430\n"
     ]
    },
    {
     "name": "stderr",
     "output_type": "stream",
     "text": [
      "                                                                                \r"
     ]
    },
    {
     "data": {
      "text/plain": [
       "8852"
      ]
     },
     "execution_count": 33,
     "metadata": {},
     "output_type": "execute_result"
    }
   ],
   "source": [
    "# 9. Analysis 9: Count of Distinct Crash IDs where No Damaged Property was observed and Damage Level (VEH_DMAG_SCL~) is above 4 and car avails Insurance \n",
    "unit_with_damage_df = units_df.join(damages_df, on=\"CRASH_ID\", how=\"left\")\n",
    "\n",
    "filtered_crashes_df = unit_with_damage_df.filter(\n",
    "    # No other damaged property\n",
    "    (f.col(\"DAMAGED_PROPERTY\").isNull()) &\n",
    "    \n",
    "    # Damage level above 4\n",
    "    ((f.col(\"VEH_DMAG_SCL_1_ID\").isin([\"DAMAGED 5\", \"DAMAGED 6\", \"DAMAGED 7 HIGHEST\"])) | (f.col(\"VEH_DMAG_SCL_2_ID\").isin([\"DAMAGED 5\", \"DAMAGED 6\", \"DAMAGED 7 HIGHEST\"]))) &\n",
    "    \n",
    "    # Car avails insurance\n",
    "    (f.col(\"FIN_RESP_TYPE_ID\") != 'NA')\n",
    ")\n",
    "print(filtered_crashes_df.count())\n",
    "filtered_crashes_df.select(\"CRASH_ID\").distinct().count()"
   ]
  },
  {
   "cell_type": "code",
   "execution_count": 48,
   "metadata": {},
   "outputs": [
    {
     "data": {
      "text/plain": [
       "151340"
      ]
     },
     "execution_count": 48,
     "metadata": {},
     "output_type": "execute_result"
    }
   ],
   "source": [
    "# 10: Determine the Top 5 Vehicle Makes where drivers are charged with speeding related offences, has licensed Drivers, used top 10 used vehicle colours and has car licensed with the Top 25 states with highest number of offences (to be deduced from the data)\n",
    "speeding_charges_df = charges_df.filter(f.expr(\"CHARGE LIKE '%SPEED%'\"))\n",
    "\n",
    "licensed_drivers_df = speeding_charges_df.join(endorsements_df, [\"CRASH_ID\", \"UNIT_NBR\"], \"inner\") \\\n",
    "                                 .join(restrict_df, [\"CRASH_ID\", \"UNIT_NBR\"], \"inner\")\n",
    "\n",
    "top_colors_df = units_df.groupBy(\"VEH_COLOR_ID\").count() \\\n",
    "                        .orderBy(f.col(\"count\").desc()).limit(10) \\\n",
    "                        .select(\"VEH_COLOR_ID\").collect()\n",
    "top_colors = [row[\"VEH_COLOR_ID\"] for row in top_colors_df]\n",
    "\n",
    "top_states_df = speeding_charges_df.join(units_df, [\"CRASH_ID\", \"UNIT_NBR\"], \"inner\") \\\n",
    "                           .groupBy(\"VEH_LIC_STATE_ID\").count() \\\n",
    "                           .orderBy(f.col(\"count\").desc()).limit(25) \\\n",
    "                           .select(\"VEH_LIC_STATE_ID\").collect()  \n",
    "\n",
    "top_states = [row[\"VEH_LIC_STATE_ID\"] for row in top_states_df]  # List of top 25 states\n",
    "\n",
    "filtered_units_df = units_df.filter(\n",
    "    (f.col(\"VEH_COLOR_ID\").isin(top_colors)) & \n",
    "    (f.col(\"VEH_LIC_STATE_ID\").isin(top_states))\n",
    ")\n",
    "filtered_units_df.count()"
   ]
  },
  {
   "cell_type": "code",
   "execution_count": 49,
   "metadata": {},
   "outputs": [
    {
     "name": "stderr",
     "output_type": "stream",
     "text": [
      "24/10/28 20:43:12 WARN WindowExec: No Partition Defined for Window operation! Moving all data to a single partition, this can cause serious performance degradation.\n",
      "24/10/28 20:43:12 WARN WindowExec: No Partition Defined for Window operation! Moving all data to a single partition, this can cause serious performance degradation.\n",
      "24/10/28 20:43:12 WARN WindowExec: No Partition Defined for Window operation! Moving all data to a single partition, this can cause serious performance degradation.\n",
      "24/10/28 20:43:12 WARN WindowExec: No Partition Defined for Window operation! Moving all data to a single partition, this can cause serious performance degradation.\n",
      "24/10/28 20:43:12 WARN WindowExec: No Partition Defined for Window operation! Moving all data to a single partition, this can cause serious performance degradation.\n",
      "24/10/28 20:43:12 WARN WindowExec: No Partition Defined for Window operation! Moving all data to a single partition, this can cause serious performance degradation.\n",
      "24/10/28 20:43:12 WARN WindowExec: No Partition Defined for Window operation! Moving all data to a single partition, this can cause serious performance degradation.\n"
     ]
    },
    {
     "name": "stdout",
     "output_type": "stream",
     "text": [
      "+-----------+-----+\n",
      "|VEH_MAKE_ID|count|\n",
      "+-----------+-----+\n",
      "|       FORD| 4944|\n",
      "|  CHEVROLET| 4302|\n",
      "|     TOYOTA| 2394|\n",
      "|      DODGE| 2216|\n",
      "|      HONDA| 1573|\n",
      "+-----------+-----+\n",
      "\n"
     ]
    },
    {
     "name": "stderr",
     "output_type": "stream",
     "text": [
      "24/10/28 20:43:12 WARN WindowExec: No Partition Defined for Window operation! Moving all data to a single partition, this can cause serious performance degradation.\n",
      "24/10/28 20:43:12 WARN WindowExec: No Partition Defined for Window operation! Moving all data to a single partition, this can cause serious performance degradation.\n",
      "24/10/28 20:43:12 WARN WindowExec: No Partition Defined for Window operation! Moving all data to a single partition, this can cause serious performance degradation.\n",
      "24/10/28 20:43:12 WARN WindowExec: No Partition Defined for Window operation! Moving all data to a single partition, this can cause serious performance degradation.\n"
     ]
    }
   ],
   "source": [
    "result_df = licensed_drivers_df.join(filtered_units_df, [\"CRASH_ID\", \"UNIT_NBR\"], \"inner\") \\\n",
    "                               .groupBy(\"VEH_MAKE_ID\") \\\n",
    "                               .count() \\\n",
    "                               .withColumn(\"rank\", f.rank().over(Window.orderBy(f.col(\"count\").desc()))) \\\n",
    "                               .filter(f.col(\"rank\") <= 5)\n",
    "\n",
    "result_df.select(\"VEH_MAKE_ID\", \"count\").show()"
   ]
  },
  {
   "cell_type": "code",
   "execution_count": null,
   "metadata": {},
   "outputs": [],
   "source": []
  }
 ],
 "metadata": {
  "kernelspec": {
   "display_name": "bcg-spark-assessment-SNcLr8RA-py3.10",
   "language": "python",
   "name": "python3"
  },
  "language_info": {
   "codemirror_mode": {
    "name": "ipython",
    "version": 3
   },
   "file_extension": ".py",
   "mimetype": "text/x-python",
   "name": "python",
   "nbconvert_exporter": "python",
   "pygments_lexer": "ipython3",
   "version": "3.10.5"
  }
 },
 "nbformat": 4,
 "nbformat_minor": 2
}
